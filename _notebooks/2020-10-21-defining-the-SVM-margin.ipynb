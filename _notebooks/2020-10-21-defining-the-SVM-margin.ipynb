{
 "cells": [
  {
   "cell_type": "markdown",
   "metadata": {},
   "source": [
    "# Defining the margin for support vector machines\n",
    "\n",
    "- badges: false\n",
    "- categories: [jupyter]\n",
    "- description: Defining the margin for Support-Vector Machines"
   ]
  },
  {
   "cell_type": "markdown",
   "metadata": {
    "slideshow": {
     "slide_type": "slide"
    }
   },
   "source": [
    "<img src=\"figures/svm_margin.png\" width=\"90%\">"
   ]
  },
  {
   "cell_type": "markdown",
   "metadata": {},
   "source": [
    "### Step 1. \n",
    "Define the distance between two points in the space\n",
    "\n",
    "$$d = (\\bf{x_2} - \\bf{x_1})$$"
   ]
  },
  {
   "cell_type": "markdown",
   "metadata": {},
   "source": [
    "### Step 2.  \n",
    "Compute the projection of $\\bf{d}$ onto $\\bf{p}$ vector:\n",
    "\n",
    "$$proj_{d}p = \\|\\bf{x_2} -\\bf{x_1}\\|cos(\\theta)=\\|x_2 - x_1\\|\\frac{\\langle x_2 - x_1, p\\rangle}{\\|x_2 - x_1\\|\\|p\\|} = \\frac{\\langle x_2 - x_1, p\\rangle}{\\|p\\|}$$\n",
    "\n",
    "where:  $$cos(\\theta) = \\frac{\\langle \\bf{x_2} - \\bf{x_1}, p\\rangle}{\\|\\bf{x_2} - \\bf{x_1}\\|\\|p\\|}$$\n"
   ]
  },
  {
   "cell_type": "markdown",
   "metadata": {},
   "source": [
    "### Step 3. \n",
    "Represent  $\\bf{p}$ in terms of $\\bf{w}$:\n",
    "\n",
    "$\\bf{p} \\perp \\bf{w}$ thus $\\bf{p} = \\lambda \\bf{w}$, for some $\\lambda\\in R$ and,\n",
    "\n",
    "$proj_{d}\\bf{p} = \\frac{\\lambda\\langle (\\bf{x_2} - \\bf{x_1}), w\\rangle}{\\lambda\\|\\bf{w}\\|}$."
   ]
  },
  {
   "cell_type": "markdown",
   "metadata": {},
   "source": [
    "### Step 4. \n",
    "Define the geometrical margin between two hyperplanes for any $x_{i}\\in\\mathcal{X}$,\n",
    "\n",
    "\n",
    "$\\big[\\langle \\bf{w}\\cdot \\bf{x_{2}}\\rangle + b = 1\\big] - \\big[\n",
    "\\langle \\bf{w}\\cdot \\bf{x_{1}}\\rangle + b = -1\\big] = \\big[\\langle \\bf{w}, \\bf{x_2}-\\bf{x_1}\\rangle = 2\\big]$\n",
    "\n",
    "$M = proj_{d}p= \\frac{\\langle (\\bf{x_2} - \\bf{x_1}), w\\rangle}{\\|\\bf{w}\\|} =\\frac{2}{\\|\\bf{w}\\|}$\n",
    "\n"
   ]
  },
  {
   "cell_type": "markdown",
   "metadata": {},
   "source": [
    "## Maximize margin\n",
    "\n",
    "$$\\mbox{max}_{\\bf{w},\\xi} \\rightarrow\\frac{2}{\\|\\bf{w}\\|}+ C\\sum_{i=1}^{n}\\xi_{i}$$\n",
    "$$\\mbox{min}_{\\bf{w},\\xi} \\rightarrow\\frac{1}{2}\\|\\bf{w}\\|+ C\\sum_{i=1}^{n}\\xi_{i}$$\n",
    "\n",
    "subject to  \n",
    "$y_{i}\\big(\\langle w\\cdot x_{i}\\rangle + b\\big)\\geq 1$, $\\forall x_{i} \\in\\Omega, i = 1,...,n$\n",
    "\n",
    "Where:\n",
    "\n",
    "Set $\\Omega = \\{x_1,x_2,...,x_n\\}$ $\\Omega\\subset\\mathcal{X}$ then consider $\\{x_1,x_2,...,x_k\\}\\in\\omega_{1}$, $\\{x_{k+1},x_{k+2},...,x_{n}\\}\\in\\omega_{2}$ for two classes $\\omega_{1},\\omega_{2}\\in\\Omega$\n",
    "\n",
    "\n",
    "Find: $f(x_{i})> 1, \\forall  x_{i}\\in\\omega_1$ and\n",
    "$f(x_{i})< -1,  \\forall  x_{i}\\in\\omega_2$, we can write it as $y_{i}\\big(\\langle w\\cdot x_{i}\\rangle + b\\big)\\geq 1$,  where $y = \\{\\pm1\\}$, and $f(x_i) = y_{i}\\big(\\langle w\\cdot x_{i}\\rangle + b\\big)$ "
   ]
  },
  {
   "cell_type": "code",
   "execution_count": null,
   "metadata": {},
   "outputs": [],
   "source": []
  }
 ],
 "metadata": {
  "kernelspec": {
   "display_name": "Python 3",
   "language": "python",
   "name": "python3"
  },
  "language_info": {
   "codemirror_mode": {
    "name": "ipython",
    "version": 3
   },
   "file_extension": ".py",
   "mimetype": "text/x-python",
   "name": "python",
   "nbconvert_exporter": "python",
   "pygments_lexer": "ipython3",
   "version": "3.8.5"
  }
 },
 "nbformat": 4,
 "nbformat_minor": 4
}