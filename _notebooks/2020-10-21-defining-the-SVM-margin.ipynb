{
 "cells": [
  {
   "cell_type": "markdown",
   "metadata": {},
   "source": [
    "# Defining the margin for support vector machines\n",
    "\n",
    "- toc: true\n",
    "- badges: true\n",
    "- categories: [EEG, MNE, jupyter]\n",
    "- description: Defining the margin for Support-Vector Machines"
   ]
  },
  {
   "cell_type": "markdown",
   "metadata": {
    "jupyter": {
     "source_hidden": true
    },
    "slideshow": {
     "slide_type": "slide"
    }
   },
   "source": [
    "<img src=\"figures/svm_margin.png\" width=\"99%\">"
   ]
  },
  {
   "cell_type": "markdown",
   "metadata": {
    "jupyter": {
     "source_hidden": true
    }
   },
   "source": [
    "Step 1. Define the distance between two points in the space;\r\n",
    "\r$\n",
    "$d = (x_2 - x_$1)$ \r\n",
    "-------------------------------------------"
   ]
  },
  {
   "cell_type": "markdown",
   "metadata": {},
   "source": [
    "\r\n",
    "Step 2. Compute the projection of $d$ onto $p$ vector:\r\n",
    "$\r\n",
    "$proj_{d}p = \\|x_2 - x_1\\|cos(\\theta)=\\|(x_2 - x_1)\\|\\frac{\\langle x_2 - x_1, p\\rangle}{\\|(x_2 - x_1)\\|\\|p\\|} = \\frac{\\langle (x_2 - x_1), p\\rangle}{\\|p\\$|}$\r\n",
    "- whe$re: $cos(\\theta) = \\frac{\\langle (x_2 - x_1), p\\rangle}{\\|(x_2 - x_1)\\|\\|$p\\|}$\r\n",
    "-------------------------------------------\r\n"
   ]
  },
  {
   "cell_type": "markdown",
   "metadata": {},
   "source": [
    "\r\n",
    "Step 3. Represent  $p$ in terms of $w$:\r\n",
    "\r\n",
    "$p \\perp w$ thus $p = \\lambda w$, for some $\\lambda\\in R$ and,\r\n",
    "\r\n",
    "$proj_{d}p = \\frac{\\lambda\\langle (x_2 - x_1), w\\rangle}{\\lambda\\|w\\|}$.\r\n",
    "------------------------------------------- \r\n"
   ]
  },
  {
   "cell_type": "markdown",
   "metadata": {},
   "source": [
    "\r\n",
    "Step 4. Define the geometrical margin between two hyperplanes for any $x_{i}\\in\\mathcal{X}$,\r\n",
    "$\r\n",
    "$\\big[\\langle w\\cdot x_{2}\\rangle + b = 1\\big] - \\bg[ \r\n",
    "\\langle w\\cdot x_{1}\\rangle + b = -1\\big] = \\big[\\langle w, (x_2,-x_1)\\rangle = 2\\$big$]$\r\n",
    "\r\n",
    "$M = proj_{d}p= \\frac{\\langle (x_2 - x_1), w\\rangle}{\\|w\\|} =\\frac{2}{$\\|w\\|}$ \r\n",
    "------------------------------------------- "
   ]
  },
  {
   "cell_type": "markdown",
   "metadata": {},
   "source": [
    "\r\n",
    "Maximize margin $\\mbox{max}_{w,\\xi}xi} \\rightarrow\\frac{2}{\\|w\\|}+ C\\sum_{i=1}^{n}\\xi}$$i{$\n",
    "\n",
    "$\\mbox{min}_{w,\\xi} \\rightarrow\\frac{1}{2}\\|w\\|+ C\\sum_{i=1}^{n}\\xi_{\n",
    "\n",
    "$}$\r\n",
    "$\\mbox{subject to} \\rightarrow y_{i}\\big(\\langle w\\cdot x_{i}\\rangle + b\\$g)g$q 1,\\forall x_{i} \\in\\Omega, i = 1,.,$n\n",
    "\n",
    ";$ \r\n",
    "\r\n",
    "Were:\r$\n",
    "\r\n",
    "Set $\\Omega = \\{x_1,x_2,.$.,}$$ where $\\Omega\\subset\\ma$thandX}$ then c$onsider $\\{x_1,x_2,...,x_k\\}\\in\\o$m{$1}$ and $\\{x_{k+1},x_{k+2},...,x_{n}\\}\\in\\om$ega_{2}$ for teswo$ class $\\omega_{1},\\omega_{2}\\$in\\Omega$.\r\n",
    "\r\n",
    "Estimate\n",
    "$\r\n",
    "Find: \\\\ $ _{i})> 1, \\forall \\;\\; x_{i$}in\\ome$ga_$1$;$ and \r\n",
    "$\\;$ $ _{i})< -1  \\forall \\;\\; x_{$i\\in\\omega_2$; or in a co$mpact way  $y_{i}\\big(\\langle w\\cdot x_{i}\\rangle + $b\\big)\\geq$ 1$  where  $$ = \\{\\pm1\\}$;"
   ]
  },
  {
   "cell_type": "code",
   "execution_count": null,
   "metadata": {},
   "outputs": [],
   "source": []
  }
 ],
 "metadata": {
  "kernelspec": {
   "display_name": "Python 3",
   "language": "python",
   "name": "python3"
  },
  "language_info": {
   "codemirror_mode": {
    "name": "ipython",
    "version": 3
   },
   "file_extension": ".py",
   "mimetype": "text/x-python",
   "name": "python",
   "nbconvert_exporter": "python",
   "pygments_lexer": "ipython3",
   "version": "3.8.5-final"
  }
 },
 "nbformat": 4,
 "nbformat_minor": 4
}