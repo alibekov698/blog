{
 "cells": [
  {
   "cell_type": "markdown",
   "metadata": {},
   "source": [
    "# Defining the margin for support vector machines\n",
    "\n",
    "- toc: true\n",
    "- badges: true\n",
    "- categories: [EEG, MNE, jupyter]\n",
    "- description: Defining the margin for Support-Vector Machines"
   ]
  },
  {
   "cell_type": "markdown",
   "metadata": {
    "jupyter": {
     "source_hidden": true
    },
    "slideshow": {
     "slide_type": "slide"
    }
   },
   "source": [
    "<img src=\"figures/svm_margin.png\" width=\"99%\">"
   ]
  },
  {
   "cell_type": "markdown",
   "metadata": {
    "jupyter": {
     "source_hidden": true
    }
   },
   "source": [
    "Step 1. Define the distance between two points in the space;\r\n",
    "\r\n",
    "$d = (x_2 - x_1)$ \r\n",
    "-------------------------------------------"
   ]
  },
  {
   "cell_type": "markdown",
   "metadata": {},
   "source": [
    "\r\n",
    "Step 2. Compute the projection of $d$ onto $p$ vector:\r\n",
    "\r\n",
    "$proj_{d}p = \\|x_2 - x_1\\|cos(\\theta)=\\|(x_2 - x_1)\\|\\frac{\\langle x_2 - x_1, p\\rangle}{\\|(x_2 - x_1)\\|\\|p\\|} = \\frac{\\langle (x_2 - x_1), p\\rangle}{\\|p\\|}$\r\n",
    "- where: $cos(\\theta) = \\frac{\\langle (x_2 - x_1), p\\rangle}{\\|(x_2 - x_1)\\|\\|p\\|}$\r\n",
    "-------------------------------------------\r\n"
   ]
  },
  {
   "cell_type": "markdown",
   "metadata": {},
   "source": [
    "\r\n",
    "Step 3. Represent  $p$ in terms of $w$:\r\n",
    "\r\n",
    "$p \\perp w$ thus $p = \\lambda w$, for some $\\lambda\\in R$ and,\r\n",
    "\r\n",
    "$proj_{d}p = \\frac{\\lambda\\langle (x_2 - x_1), w\\rangle}{\\lambda\\|w\\|}$.\r\n",
    "------------------------------------------- \r\n"
   ]
  },
  {
   "cell_type": "markdown",
   "metadata": {},
   "source": [
    "\r\n",
    "Step 4. Define the geometrical margin between two hyperplanes for any $x_{i}\\in\\mathcal{X}$,\r\n",
    "\r\n",
    "$\\big[\\langle w\\cdot x_{2}\\rangle + b = 1\\big] - \\big[ \r\n",
    "\\langle w\\cdot x_{1}\\rangle + b = -1\\big] = \\big[\\langle w, (x_2,-x_1)\\rangle = 2\\big]$\r\n",
    "\r\n",
    "$M = proj_{d}p= \\frac{\\langle (x_2 - x_1), w\\rangle}{\\|w\\|} =\\frac{2}{\\|w\\|}$ \r\n",
    "------------------------------------------- "
   ]
  },
  {
   "cell_type": "markdown",
   "metadata": {},
   "source": [
    "\r\n",
    "Maximize margin $M$\r\n",
    "\r\n",
    "$\\mbmaxmin}_{w,\\xi} \\rightarrow\\frac{2}{\\|w\\|}+ C\\sum_{i=1}^{n}\\xi_{\n",
    "\n",
    "$\\mbox{min}_{w,\\xi} \\rightarrow\\frac{1}{2}\\|w\\|+ C\\sum_{i=1}^{n}\\xi_{i}$\n",
    "\n",
    "i}$\r\n",
    "$\\mbox{subject to} \\rightarrow y_{i}\\big(\\langle w\\cdot x_{i}\\rangle + b\\big)\\g$\n",
    "\n",
    "$q 1,\\forall x_{i} \\in\\Omega, i = 1,...,n\n",
    "\n",
    ";$ \r\n",
    "\r\n",
    "Where:\r\n",
    "\r\n",
    "Set $\\Omega = \\{x_1,x_2,...,x_n\\}$ where $\\Omega\\subset\\mathcal{X}$ then consider $\\{x_1,x_2,...,x_k\\}\\in\\omega_{1}$ and $\\{x_{k+1},x_{k+2},...,x_{n}\\}\\in\\omega_{2}$ for two class $\\omega_{1},\\omega_{2}\\in\\Omega$.\r\n",
    "\r\n",
    "Estimate: \r\n",
    "\r\n",
    "Find: \\\\ $f(x_{i})> 1, \\; \\forall \\;\\; x_{i}\\in\\omega_1$; and \r\n",
    "$\\;$ $f(x_{i})< -1, \\; \\forall \\;\\; x_{i}\\in\\omega_2$; or in a compact way   $y_{i}\\big(\\langle w\\cdot x_{i}\\rangle + b\\big)\\geq 1$  where  $y = \\{\\pm1\\}$;"
   ]
  },
  {
   "cell_type": "code",
   "execution_count": null,
   "metadata": {},
   "outputs": [],
   "source": []
  }
 ],
 "metadata": {
  "kernelspec": {
   "display_name": "Python 3",
   "language": "python",
   "name": "python3"
  },
  "language_info": {
   "codemirror_mode": {
    "name": "ipython",
    "version": 3
   },
   "file_extension": ".py",
   "mimetype": "text/x-python",
   "name": "python",
   "nbconvert_exporter": "python",
   "pygments_lexer": "ipython3",
   "version": "3.8.5-final"
  }
 },
 "nbformat": 4,
 "nbformat_minor": 4
}