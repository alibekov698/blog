{
 "cells": [
  {
   "cell_type": "markdown",
   "metadata": {},
   "source": [
    "# Defining the margin for support vector machines\n",
    "\n",
    "- toc: false\n",
    "- badges: true\n",
    "- categories: [jupyter, svm]\n",
    "- description: Defining the margin for Support-Vector Machines"
   ]
  },
  {
   "cell_type": "markdown",
   "metadata": {
    "jupyter": {
     "source_hidden": true
    },
    "slideshow": {
     "slide_type": "slide"
    }
   },
   "source": [
    "<img src=\"figures/svm_margin.png\" width=\"85%\">"
   ]
  },
  {
   "cell_type": "markdown",
   "metadata": {
    "jupyter": {
     "source_hidden": true
    }
   },
   "source": [
    "Step 1. Define the distance between two points in the space:\r\n",
    "\r\n",
    "$d = (x_2 - x$1)$ \r\n",
    "-------------------------------------------"
   ]
  },
  {
   "cell_type": "markdown",
   "metadata": {},
   "source": [
    "\r\n",
    "Step 2. Compute the projection of $d$ onto $p$ vector:\r$\r\n",
    "$proj_{d}p = \\|x_2 - x_1\\|cos(\\theta)=\\|(x_2 - x_1)\\|\\frac{\\langle x_2 - x_1, p\\rangle}{\\|(x - x_1)\\|\\|p\\|} = \\frac{\\langle (x_2 - x_1), p\\rangle}{\\p\\$$|\n",
    "\r\n",
    "-wh$\n",
    "$re: $cos(\\a)=) = \\frac{\\lagle{ }x2 {-} x1), p\\rangle}{\\|x2 - x_1)|\\|$$p\\----\r\n"
   ]
  },
  {
   "cell_type": "markdown",
   "metadata": {},
   "source": [
    "\r\n",
    "Step 3. Represent  $p$ in terms of $w$:\r$\n",
    "\r$p \\per$p w$ thu$s $p = \\lambd$a w$, for som$e $\\lambda\\in$ R$  nd,$\r\n",
    "\r\n",
    "$proj_{d}p = \\frac{\\lambda\\langle (x_2 - _1), w\\rangle}{\\lambda\\$|w\\|}$.\r\n",
    "------------------------------------------- \r\n"
   ]
  },
  {
   "cell_type": "markdown",
   "metadata": {},
   "source": [
    "\r\n",
    "Step 4. Define the geometrical margin between two hyperplanes for any\n",
    "\n",
    "$ $x_{i}\\in\\mathcal{X}$\n",
    ",\r$\r\n",
    "$\\big[\\langle w\\cdot x_{2}\\ranl + b = 1\\bg -i \\[ \r\n",
    "\\langle w\\cdot x_{1}\\rage +b = -1\\$$\n",
    "\n",
    "$$ig] = \\big[\\langle w, (x_2,-x_1)\\rangle  2\\b$ig$$]$=\n",
    "$M = proj{d}p= \\frac{\\ angl x_2 -x_1), w\\rangle}{|w\\|} =\\frc{2}{$$\\|w\\|}$ \r\n",
    "------------------------------------------- "
   ]
  },
  {
   "cell_type": "markdown",
   "metadata": {},
   "source": [
    "## \n",
    "Maximize margin\n",
    "\n",
    "$$\\mbox{max}_{w,\\xi} \\rightarrow\\frac{2}{\\|w\\|}+ C\\sum_{i=1}^{n}\\xi_{i}$$\n",
    "$$\\mbox{min}_{w,\\xi} \\rightarrow\\frac{1}{2}\\|w\\|+ C\\sum_{i=1}^{n}\\xi_{i}$$\n",
    "\n",
    "$$\\mbox{subject to} \\rightarrow y_{i}\\big(\\langle w\\cdot x_{i}\\rangle + b\\big)\\geq 1,\\forall x_{i} \\in\\Omega, i = 1,...,n$$\n",
    "$Where:\n",
    "\n",
    "Set $$\\Omega = \\{x_1,x_2,...,x_n\\}$$ $$\\Omega\\subset\\mathcal{X}$$ then consider $$\\{x_1,x_2,...,x_k\\}\\in\\omega_{1}$$ $$\\{x_{k+1},x_{k+2},...,x_{n}\\}\\in\\omega_{2}$$ for two class $$\\omega_{1},\\omega_{2}\\in\\Omega$$\n",
    "\n",
    "\n",
    "Find:  $$f(x_{i})> 1, \\forall  x_{i}\\in\\omega_1$$  and\n",
    "$$f(x_{i})< -1,  \\forall  x_{i}\\in\\omega_2$$ in a compact way   $$y_{i}\\big(\\langle w\\cdot x_{i}\\rangle + b\\big)\\geq 1$$  where  $$y = \\{\\pm1\\}$$ {\\pm1\\}$;"
   ]
  },
  {
   "cell_type": "code",
   "execution_count": null,
   "metadata": {},
   "outputs": [],
   "source": []
  }
 ],
 "metadata": {
  "kernelspec": {
   "display_name": "Python 3",
   "language": "python",
   "name": "python3"
  },
  "language_info": {
   "codemirror_mode": {
    "name": "ipython",
    "version": 3
   },
   "file_extension": ".py",
   "mimetype": "text/x-python",
   "name": "python",
   "nbconvert_exporter": "python",
   "pygments_lexer": "ipython3",
   "version": "3.8.5-final"
  }
 },
 "nbformat": 4,
 "nbformat_minor": 4
}